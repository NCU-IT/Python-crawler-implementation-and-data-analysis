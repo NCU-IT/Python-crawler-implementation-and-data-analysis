{
 "cells": [
  {
   "cell_type": "markdown",
   "metadata": {},
   "source": [
    "# 爬虫代码实现笔记(一）：获取网页与分析页面元素\n",
    "以爬取新浪网为例，学习网页爬虫与大数据采集与分析;此笔记根据网易云课堂《python网络爬虫实战》视频课程整理出来，而且已经根据新浪网最新的变化做出代码上的调整；"
   ]
  },
  {
   "cell_type": "markdown",
   "metadata": {},
   "source": [
    "## 一、首先确认requests包与BeautifulSoup4包已安装\n",
    "没有的话：<br>\n",
    "pip install requests<br>\n",
    "pip install BeautifulSoup4<br>\n",
    "来完成安装\n",
    "\n",
    "requests包是python用来处理http请求一个功能包，可以用来模拟浏览器向服务器发出http请求，并获取响应;<br>\n",
    "而BeautifulSoup4可视为是一个能解析和封装一个html网页功能包，具体稍候再具体解释; "
   ]
  },
  {
   "cell_type": "code",
   "execution_count": 37,
   "metadata": {},
   "outputs": [
    {
     "name": "stdout",
     "output_type": "stream",
     "text": [
      "<class 'requests.models.Response'>\n"
     ]
    }
   ],
   "source": [
    "import requests\n",
    "from bs4 import BeautifulSoup\n",
    "res=requests.get(\"http://news.sina.com.cn/china/\") #用requests的get方法获取指定url的网页，并将其封装为一个Response对象\n",
    "res.encoding=\"utf-8\"\n",
    "#print(res.text) #获取响应的html内容\n",
    "print(type(res))"
   ]
  },
  {
   "cell_type": "markdown",
   "metadata": {},
   "source": [
    "## 二、用BeautifulSoup解析网页元素\n",
    "BeautifulSoup把整个html内容视为一个html文档树，把文档中的每个html元素视为一个节点，这样就能访问到你想访问到的指定元素了<br>\n",
    "<img src=\"images/domTree.jpg\" />"
   ]
  },
  {
   "cell_type": "code",
   "execution_count": 38,
   "metadata": {},
   "outputs": [],
   "source": [
    "html_sample='\\\n",
    "<html> \\\n",
    "  <body> \\\n",
    "    <h1 id=\"title\">hello,world!</h1> \\\n",
    "    <a href=\"#\" class=\"link\">this is link1</a> \\\n",
    "    <a href=\"# link2\" class=\"link\">this is link2</a> \\\n",
    "  </body> \\\n",
    " </html>'"
   ]
  },
  {
   "cell_type": "code",
   "execution_count": 39,
   "metadata": {},
   "outputs": [],
   "source": [
    "soup=BeautifulSoup(html_sample,\"html.parser\") #将html_sample解析为一个BeautifulSoup对象，并指定“html.parser”为BeautifulSoup的解析器"
   ]
  },
  {
   "cell_type": "code",
   "execution_count": 40,
   "metadata": {},
   "outputs": [
    {
     "name": "stdout",
     "output_type": "stream",
     "text": [
      "<class 'bs4.BeautifulSoup'>\n"
     ]
    }
   ],
   "source": [
    "# print(soup.text)\n",
    "print(type(soup))"
   ]
  },
  {
   "cell_type": "markdown",
   "metadata": {},
   "source": [
    "soup.text会去掉html中的元素标签，直接返回元素标签内文本；但若要获取特定元素标签的相关内容，则需要BeautifulSoup封装对象soup的select方法；"
   ]
  },
  {
   "cell_type": "markdown",
   "metadata": {},
   "source": [
    "### 使用select找出含有h1与a标签的元素："
   ]
  },
  {
   "cell_type": "code",
   "execution_count": 41,
   "metadata": {},
   "outputs": [],
   "source": [
    "header=soup.select('h1')\n",
    "alink=soup.select('a')"
   ]
  },
  {
   "cell_type": "code",
   "execution_count": 42,
   "metadata": {},
   "outputs": [
    {
     "name": "stdout",
     "output_type": "stream",
     "text": [
      "[<h1 id=\"title\">hello,world!</h1>]\n",
      "[<a class=\"link\" href=\"#\">this is link1</a>, <a class=\"link\" href=\"# link2\">this is link2</a>]\n"
     ]
    }
   ],
   "source": [
    "print(header) \n",
    "print(alink)"
   ]
  },
  {
   "cell_type": "markdown",
   "metadata": {},
   "source": [
    "故可见，select方法输出为list类型数据，要获得具体的值，则可以使用索引;而要获得指定元素的文本值，则加上.text属性"
   ]
  },
  {
   "cell_type": "code",
   "execution_count": 43,
   "metadata": {},
   "outputs": [
    {
     "name": "stdout",
     "output_type": "stream",
     "text": [
      "<h1 id=\"title\">hello,world!</h1>\n",
      "hello,world!\n"
     ]
    }
   ],
   "source": [
    "print(header[0])\n",
    "print(header[0].text)"
   ]
  },
  {
   "cell_type": "code",
   "execution_count": 44,
   "metadata": {},
   "outputs": [
    {
     "name": "stdout",
     "output_type": "stream",
     "text": [
      "this is link1\n",
      "this is link2\n"
     ]
    }
   ],
   "source": [
    "for link in alink:\n",
    "    #print(link)\n",
    "    print(link.text)"
   ]
  },
  {
   "cell_type": "markdown",
   "metadata": {},
   "source": [
    "### 取得指定属性的元素"
   ]
  },
  {
   "cell_type": "markdown",
   "metadata": {},
   "source": [
    "使用selectr找出所有id为title的元素（id前面加#）"
   ]
  },
  {
   "cell_type": "code",
   "execution_count": 45,
   "metadata": {},
   "outputs": [
    {
     "name": "stdout",
     "output_type": "stream",
     "text": [
      "[<h1 id=\"title\">hello,world!</h1>]\n"
     ]
    }
   ],
   "source": [
    "alink=soup.select('#title')\n",
    "print(alink)"
   ]
  },
  {
   "cell_type": "markdown",
   "metadata": {},
   "source": [
    "使用select找出所有class为link的元素（class前面加.）"
   ]
  },
  {
   "cell_type": "code",
   "execution_count": 46,
   "metadata": {},
   "outputs": [
    {
     "name": "stdout",
     "output_type": "stream",
     "text": [
      "<a class=\"link\" href=\"#\">this is link1</a>\n",
      "<a class=\"link\" href=\"# link2\">this is link2</a>\n"
     ]
    }
   ],
   "source": [
    "for link in soup.select('.link'):\n",
    "    print(link)"
   ]
  },
  {
   "cell_type": "markdown",
   "metadata": {},
   "source": [
    "### 获取指定元素的指定属性值"
   ]
  },
  {
   "cell_type": "code",
   "execution_count": 47,
   "metadata": {},
   "outputs": [
    {
     "name": "stdout",
     "output_type": "stream",
     "text": [
      "#\n",
      "# link2\n"
     ]
    }
   ],
   "source": [
    "for link in soup.select('.link'):\n",
    "    print(link['href'])"
   ]
  },
  {
   "cell_type": "markdown",
   "metadata": {},
   "source": [
    "获取的元素，其属性以键值对形态的字典类型数据表示:"
   ]
  },
  {
   "cell_type": "code",
   "execution_count": 48,
   "metadata": {},
   "outputs": [
    {
     "name": "stdout",
     "output_type": "stream",
     "text": [
      "www.baidu.com\n",
      "123\n",
      "456\n"
     ]
    }
   ],
   "source": [
    "a='<a href=\"www.baidu.com\" qoo=123 abc=\"456\">I am a link</a>'\n",
    "soup2=BeautifulSoup(a,'html.parser')\n",
    "link=soup2.select('a')\n",
    "print(link[0]['href'])\n",
    "print(link[0]['qoo'])\n",
    "print(link[0]['abc'])"
   ]
  },
  {
   "cell_type": "markdown",
   "metadata": {},
   "source": [
    "## 三、抓取新浪的新闻列表信息（以新浪国内新闻版块为例）"
   ]
  },
  {
   "cell_type": "markdown",
   "metadata": {},
   "source": [
    "抓取新闻列表首先要分析每条新闻列表在网页中的位置，分析每条列表的网页上的特性是什么，这样才可以针对性地抓取；具体方法:<br>\n",
    "1、打开chrome的开发者工具（右击页面，在弹出菜单中点击“检查”）后，载入新闻列表页，具体步骤如下：\n",
    "<img src='images/1.jpg' /><br>\n",
    "2、点击左上解“检查”工具，并用鼠标点击网页中每一项新闻标题上，观察其元素特征；<br>\n",
    "<img src=\"images/2.jpg\" /><br>\n",
    "经过检查，发现每一新闻标题都是用一个样式为news-item的div包住的，所以就可以以此为依据，来定位并抓取每一个新闻标题及相关信息"
   ]
  },
  {
   "cell_type": "code",
   "execution_count": 49,
   "metadata": {},
   "outputs": [],
   "source": [
    "res=requests.get(\"http://news.sina.com.cn/china/\") #用requests的get方法获取指定url的网页，并将其封装为一个Response对象\n",
    "res.encoding=\"utf-8\"\n",
    "soup=BeautifulSoup(res.text,'html.parser')\n",
    "#print(soup.text)"
   ]
  },
  {
   "cell_type": "code",
   "execution_count": 50,
   "metadata": {},
   "outputs": [
    {
     "name": "stdout",
     "output_type": "stream",
     "text": [
      "7月15日 17:19 中兴通讯：美国商务部解除对公司的禁令 http://news.sina.com.cn/s/2018-07-15/doc-ihfkffak0086286.shtml\n",
      "7月15日 16:53 北京农展馆人工湖内野鸭接连死亡 尚不明确死因 http://news.sina.com.cn/c/2018-07-15/doc-ihfkffai9885256.shtml\n",
      "7月15日 16:47 河南：高考生被录取后不入学 明年志愿填报数受限 http://news.sina.com.cn/c/2018-07-15/doc-ihfkffai9922935.shtml\n",
      "7月15日 16:43 蔡英文党代会上左骂国民党右批大陆 网友：疯婆子 http://news.sina.com.cn/c/2018-07-15/doc-ihfkffai9939526.shtml\n",
      "7月15日 16:40 这所“双一流”高校放大招：本科3年可毕业 http://news.sina.com.cn/c/2018-07-15/doc-ihfkffai9831978.shtml\n",
      "7月15日 16:35 山东党报批公路像过山车：20多分钟限速值切换7次 http://news.sina.com.cn/c/2018-07-15/doc-ihfkffai9851357.shtml\n",
      "7月15日 16:33 吉林一药企狂犬疫苗生产记录造假 涉事疫苗未上市 http://news.sina.com.cn/c/2018-07-15/doc-ihfkffai9785600.shtml\n",
      "7月15日 16:27 长春长生生物科技公司违法生产狂犬病疫苗被查 http://news.sina.com.cn/c/2018-07-15/doc-ihfkffai9754836.shtml\n",
      "7月15日 15:39 支书策划联名信向上级施压让自己连任 被严重警告 http://news.sina.com.cn/o/2018-07-15/doc-ihfkffai9498288.shtml\n",
      "7月15日 15:36 年度重磅天象：7月27日火星迎十五年一遇“大冲” http://news.sina.com.cn/o/2018-07-15/doc-ihfkffai9475427.shtml\n",
      "7月15日 15:23 华为被指要求员工窃取商业机密 回应：没事实依据 http://news.sina.com.cn/c/2018-07-15/doc-ihfkffai9417755.shtml\n",
      "7月15日 15:18 赵凌云任华中师范大学校长 此前担任湖北大学校长 http://news.sina.com.cn/o/2018-07-15/doc-ihfkffai9357827.shtml\n",
      "7月15日 15:12 上海吴淞口附近水域一船沉没 3人获救10人失踪 http://news.sina.com.cn/c/2018-07-15/doc-ihfkffai9349761.shtml\n",
      "7月15日 14:41 甘肃舟曲暴雨洪涝2人遇难 不稳定滑坡体隐患尚存 http://news.sina.com.cn/o/2018-07-15/doc-ihfkffai9191908.shtml\n",
      "7月15日 14:26 民调：蔡英文声望欲振乏力 近半不赞成其领导方式 http://news.sina.com.cn/o/2018-07-15/doc-ihfkffai9215375.shtml\n",
      "7月15日 14:24 副驾吸烟致航班急降 新华社：高空不能成法外之地 http://news.sina.com.cn/o/2018-07-15/doc-ihfkffai9058449.shtml\n",
      "7月15日 13:45 云南公检法联合发文惩老赖 隐藏财产等将追究刑责 http://news.sina.com.cn/c/2018-07-15/doc-ihfhfwmv9096450.shtml\n",
      "7月15日 13:42 山西水利厅抽查河道安全度汛：不打招呼直奔现场 http://news.sina.com.cn/c/2018-07-15/doc-ihfhfwmv9079593.shtml\n",
      "7月15日 12:57 民进党有能力处理两岸关系?民调：仅1成民众认同 http://news.sina.com.cn/c/2018-07-15/doc-ihfhfwmv8943670.shtml\n",
      "7月15日 12:36 辽宁新组建5家集团：领导层拟任人选出炉 http://news.sina.com.cn/o/2018-07-15/doc-ihfhfwmv8707323.shtml\n",
      "7月15日 12:26 泰国王就普吉游船倾覆事故向习近平主席致慰问信 http://news.sina.com.cn/o/2018-07-15/doc-ihfhfwmv8684285.shtml\n",
      "7月15日 12:25 美艾奥瓦州农民喊疼：已不能承受中国的反击 http://news.sina.com.cn/c/zj/2018-07-15/doc-ihfhfwmv8671296.shtml\n",
      "4月11日 06:39 蔡奇陈吉宁在内蒙古的两天两夜 都干了啥？ http://news.sina.com.cn/c/nd/2018-04-11/doc-ifyteqtq7750224.shtml\n",
      "4月11日 06:38 北京16区与内蒙古这些旗县结对奔小康 http://news.sina.com.cn/c/nd/2018-04-11/doc-ifyuwqez8641035.shtml\n",
      "4月11日 06:24 经济学家：中国城市发展面临的问题是包容性变差 http://news.sina.com.cn/o/2018-04-11/doc-ifyteqtq7737674.shtml\n",
      "4月11日 06:03 日本前首相福田康夫：中国越开放 世界越受益 http://news.sina.com.cn/c/nd/2018-04-11/doc-ifyteqtq7719790.shtml\n",
      "4月11日 05:02 中国科协:我国科技论文与专利绝对数量居世界前列 http://news.sina.com.cn/c/2018-04-11/doc-ifyuwqez8568721.shtml\n",
      "4月11日 05:02 张又侠在纪念张廷发同志诞辰100周年座谈会上讲话 http://news.sina.com.cn/c/2018-04-11/doc-ifyteqtq7676971.shtml\n",
      "4月11日 02:49 专家：美国最近猛打台湾牌 最终遭殃是台湾 http://news.sina.com.cn/o/2018-04-11/doc-ifyteqtq7611130.shtml\n",
      "4月11日 02:39 北京市住建委：共有产权房不得拒绝组合贷 http://news.sina.com.cn/c/nd/2018-04-11/doc-ifyuwqez8500829.shtml\n",
      "4月11日 02:39 北京多区行政案件或集中在通州审理 至少增800件 http://news.sina.com.cn/c/nd/2018-04-11/doc-ifyteqtq7609068.shtml\n",
      "4月11日 02:24 今日头条旗下内涵段子被关停 抖音评论也删除了？ http://news.sina.com.cn/c/nd/2018-04-11/doc-ifyteqtq7605687.shtml\n",
      "4月11日 01:15 英拍卖行回应中国文物局：符合英国法律 17点开拍 http://news.sina.com.cn/c/nd/2018-04-11/doc-ifyzeyqa2352898.shtml\n",
      "4月11日 00:45 一文梳理：博鳌传出四大重磅信号 权威解读来了 http://news.sina.com.cn/c/nd/2018-04-11/doc-ifyteqtq7580447.shtml\n",
      "4月11日 00:45 中国向老挝移交援建的轻武器射击比赛场项目 http://news.sina.com.cn/c/nd/2018-04-11/doc-ifyteqtq7580448.shtml\n",
      "4月11日 00:37 新京报：“城管与公安打起来” 依法处理不能护短 http://news.sina.com.cn/c/nd/2018-04-11/doc-ifyteqtq7578964.shtml\n",
      "4月11日 00:29 日媒:中国网民对日企态度改观 对日产品好感上升 http://news.sina.com.cn/c/2018-04-11/doc-ifyuwqez8468365.shtml\n",
      "4月11日 00:29 汽车工业协会：关税降是机遇 有底气放宽股比限制 http://news.sina.com.cn/c/nd/2018-04-11/doc-ifyzeyqa2179935.shtml\n",
      "4月11日 00:29 深圳特区首任市委书记逝世 他被称中国“孙悟空” http://news.sina.com.cn/c/nd/2018-04-11/doc-ifyteqtq7576205.shtml\n",
      "4月11日 00:23 新华社评中美贸易摩擦:紧攥双拳何以分享中国红利 http://news.sina.com.cn/c/nd/2018-04-11/doc-ifyteqtq7574682.shtml\n",
      "4月11日 00:04 蔡英文急否“特朗普是棋子” 怕美爸爸打屁股吗？ http://news.sina.com.cn/c/2018-04-11/doc-ifyteqtq7569608.shtml\n",
      "4月10日 23:52 王毅：所有拥抱全球化的国家都会成功 http://news.sina.com.cn/o/2018-04-10/doc-ifyteqtq7567099.shtml\n",
      "4月10日 23:35 疑似非法流失文物今在英拍卖:3500年前西周青铜器 http://news.sina.com.cn/o/2018-04-10/doc-ifyuwqez8455151.shtml\n",
      "4月10日 23:20 海南首家中外合资医院揭牌 奥地利总统出席 http://news.sina.com.cn/o/2018-04-10/doc-ifyzeyqa1991554.shtml\n",
      "4月10日 01:54 广深港高铁车轮偏离路轨后 港铁:9月底通车不会变 http://news.sina.com.cn/c/2018-04-10/doc-ifyuwqez7803353.shtml\n",
      "4月10日 00:39 台籍诈骗犯大陆受审 台民众:谢大陆“清理门户” http://news.sina.com.cn/c/2018-04-10/doc-ifyuwqez7783860.shtml\n",
      "4月9日 22:46 香港路政署回应港珠澳大桥人工岛传闻：质量过关 http://news.sina.com.cn/o/2018-04-09/doc-ifyteqtq6857125.shtml\n",
      "4月7日 05:56 香港中联办主任：反对国家制度就是对港人的犯罪 http://news.sina.com.cn/c/gat/2018-04-07/doc-ifyvtmxc2926792.shtml\n",
      "4月5日 21:19 台湾桃园一处民宅失火致致4死 疑因电线插座起火 http://news.sina.com.cn/o/2018-04-05/doc-ifyteqtq4566966.shtml\n",
      "4月5日 14:41 台湾两空服员感染麻疹仍出勤 虎航：绝无知情不报 http://news.sina.com.cn/o/2018-04-05/doc-ifyuwqez5318233.shtml\n",
      "4月4日 14:16 广深港高铁香港段昨试运列车尾部出轨 暂停试车 http://news.sina.com.cn/c/gat/2018-04-04/doc-ifysuuya4635801.shtml\n",
      "4月4日 13:43 菲遣送78名台诈骗嫌犯到大陆 台“外交部”又急了 http://news.sina.com.cn/c/2018-04-04/doc-ifyswxnq2532292.shtml\n",
      "4月4日 11:49 蒋介石陵寝遭泼漆后最快6月底开放 游客锐减一半 http://news.sina.com.cn/o/2018-04-04/doc-ifyteqtq3784484.shtml\n",
      "4月4日 11:37 2018年台湾县市长选举：国民党5月或完成整体布局 http://news.sina.com.cn/o/2018-04-04/doc-ifyteqtq3776496.shtml\n",
      "4月4日 10:12 民进党有意与柯文哲选举上合作？吕秀莲:逻辑奇怪 http://news.sina.com.cn/c/gat/2018-04-04/doc-ifyteqtq3712674.shtml\n",
      "4月4日 09:16 港媒：想“台独”李扁都做不到 赖清德更不行 http://news.sina.com.cn/c/2018-04-04/doc-ifyswxnq2357651.shtml\n",
      "4月4日 08:55 赖清德用闽南语叫嚣“台独” 港媒：加速大陆武统 http://news.sina.com.cn/c/gat/2018-04-04/doc-ifysuuya3217703.shtml\n",
      "4月3日 15:11 蔡英文怼扁“保外就医”不是好事？台媒：看傻眼 http://news.sina.com.cn/o/2018-04-03/doc-ifyteqtq3257689.shtml\n",
      "4月3日 14:40 “九二共识”名词创造者:越搞“台独”越自寻死路 http://news.sina.com.cn/c/2018-04-03/doc-ifyteqtq3236377.shtml\n",
      "4月3日 14:34 蒋介石在台棺柩遭泼漆案侦结 涉案10人被提起公诉 http://news.sina.com.cn/o/2018-04-03/doc-ifyswxnq1922193.shtml\n",
      "4月3日 11:35 “海峡号”调整4月航班 每周1平潭往返台北改台中 http://news.sina.com.cn/o/2018-04-03/doc-ifyteqtq3128723.shtml\n",
      "4月3日 11:26 国民党“立委”盼两岸推“大中华货币”:或得诺奖 http://news.sina.com.cn/c/gat/2018-04-03/doc-ifyteqtq3122765.shtml\n",
      "4月3日 10:58 45%民众支持民进党选县市长?国民党:民调还是文宣 http://news.sina.com.cn/c/2018-04-03/doc-ifyswxnq1790275.shtml\n",
      "4月3日 10:52 台媒：陈菊确定接任“总统府秘书长” 将发人事令 http://news.sina.com.cn/c/2018-04-03/doc-ifyswxnq1786289.shtml\n",
      "4月12日 05:17 不吸烟的中国女性肺癌高发 罪魁祸首:二手烟+油烟 http://news.sina.com.cn/c/zs/2018-04-12/doc-ifyzeyqa8019937.shtml\n",
      "4月12日 01:56 新京报：美国能否“逃离”民粹主义？ http://news.sina.com.cn/c/zs/2018-04-12/doc-ifyteqtq8552702.shtml\n",
      "4月12日 01:53 新京报谈“北大口红”：没“北大”只有“想红” http://news.sina.com.cn/c/zs/2018-04-12/doc-ifyuwqez9441251.shtml\n",
      "4月12日 01:08 新京报:艺人炒作与未成年女友婚恋 这是毒鸡汤 http://news.sina.com.cn/c/zs/2018-04-12/doc-ifyteqtq8515587.shtml\n",
      "4月12日 01:08 新京报：积分落户启动 入籍北京又打开一扇窗 http://news.sina.com.cn/c/zs/2018-04-12/doc-ifyuwqez9405665.shtml\n",
      "4月12日 01:08 新京报：BBC纪录片陷造假门 摆拍和造假是两码事 http://news.sina.com.cn/c/zs/2018-04-12/doc-ifyteqtq8515551.shtml\n",
      "4月12日 01:08 新京报谈抗癌药零关税：一项暖心的惠民之举 http://news.sina.com.cn/c/zs/2018-04-12/doc-ifyteqtq8515518.shtml\n",
      "4月11日 23:35 人民日报中央厨房:让8岁学生“认罪” 事情大在哪 http://news.sina.com.cn/c/zs/2018-04-11/doc-ifyteqtq8426585.shtml\n",
      "4月4日 03:41 湖南浏阳市委书记党报撰文:简单粗暴也是懒政怠政 http://news.sina.com.cn/c/2018-04-04/doc-ifyswxnq2269185.shtml\n",
      "4月3日 17:45 省纪委书记到巡视组长家中家访 纪检监察有新动作 http://news.sina.com.cn/c/zs/2018-04-03/doc-ifysuuya1276990.shtml\n",
      "4月3日 17:35 陈希除中央书记处书记和中组部长外 再有兼职 http://news.sina.com.cn/c/zs/2018-04-03/doc-ifysuuya1236104.shtml\n",
      "4月3日 16:03 2017年哪地抢到了人？ 深穗杭常住人口净流入最多 http://news.sina.com.cn/c/zs/2018-04-03/doc-ifyteqtq3293437.shtml\n",
      "4月3日 12:07 新京报评景区儿童票收取标准：不妨废身高立年龄 http://news.sina.com.cn/c/zs/2018-04-03/doc-ifyswxnq1838979.shtml\n",
      "4月3日 10:40 媒体谈抖音:速食套路化让用户陷入过度娱乐泥沼 http://news.sina.com.cn/c/zs/2018-04-03/doc-ifyteqtq3082257.shtml\n",
      "4月3日 09:37 新京报刊文谈“狱中猎艳”案:制度落实上出现问题 http://news.sina.com.cn/c/zs/2018-04-03/doc-ifyteqtq3009654.shtml\n",
      "4月3日 07:51 党报评厅官为“续官命”被骗4000万:进步勿靠捷径 http://news.sina.com.cn/c/zs/2018-04-03/doc-ifyswxnq1618368.shtml\n",
      "4月3日 06:03 70市网约车细则擅设行政处罚 某平台去年被罚5亿 http://news.sina.com.cn/c/2018-04-03/doc-ifyteqtq2886150.shtml\n",
      "4月3日 05:51 中青报谈研究生自杀：板子不能只打任何一方 http://news.sina.com.cn/o/2018-04-03/doc-ifyteqtq2882851.shtml\n",
      "4月3日 03:26 媒体评甘肃扶贫路刷涂料整改：不只是作风问题 http://news.sina.com.cn/c/nd/2018-04-03/doc-ifyswxnq1549472.shtml\n",
      "4月3日 01:57 新京报：建设西湖大学 追求的不是新增一所大学 http://news.sina.com.cn/c/nd/2018-04-03/doc-ifyswxnq1513476.shtml\n",
      "4月3日 17:04 18名干部年终总结查重不过关被追责 有人只改数字 http://news.sina.com.cn/c/sd/2018-04-03/doc-ifysuuya1064569.shtml\n",
      "3月27日 17:23 国歌立法后唱不好就违法？提案委员否认：要敬畏 http://news.sina.com.cn/c/sd/2018-03-27/doc-ifysqfnh4718177.shtml\n",
      "3月7日 10:35 这师所有连队WIFI全覆盖 军报：正视官兵网络需求 http://news.sina.com.cn/o/2018-03-07/doc-ifyrztfz9839974.shtml\n",
      "3月4日 11:40 琼州海峡大雾滞留数万旅客 要建跨海大桥或隧道？ http://news.sina.com.cn/c/sd/2018-03-04/doc-ifyrztfz7596199.shtml\n",
      "3月1日 17:08 揭秘神秘富豪叶简明：炒房起家 去年收购俄油股份 http://news.sina.com.cn/s/sd/2018-03-01/doc-ifyrztfz6054508.shtml\n",
      "2月25日 13:12 陕北千亿矿权案再起波澜：民企称官方拒不履约 http://news.sina.com.cn/o/2018-02-25/doc-ifyrvaxf0353021.shtml\n",
      "2月23日 08:48 北京的无雪之冬 早在他的计算之中 http://news.sina.com.cn/s/sd/2018-02-23/doc-ifyrvspi0934516.shtml\n",
      "2月23日 03:17 雾锁海峡的海口:交警过年不放假 每200米设志愿点 http://news.sina.com.cn/s/2018-02-23/doc-ifyrvaxe8992628.shtml\n",
      "2月5日 17:49 陕西千亿矿权纠纷:“黑金”争夺战背后的权力寻租 http://news.sina.com.cn/o/2018-02-05/doc-ifyreuzn3274822.shtml\n",
      "1月31日 13:14 烟草提税带来控烟红利2年吃空：去年销量止跌反升 http://news.sina.com.cn/c/sd/2018-01-31/doc-ifyrcsrw0579916.shtml\n",
      "1月29日 05:08 孩子先会打游戏再会系鞋带 如何智斗他们手机瘾？ http://news.sina.com.cn/o/2018-01-29/doc-ifyqyesy3391624.shtml\n",
      "1月27日 12:25 稽查人员装哑巴侦查假烟作坊 头目曾施舍其食物 http://news.sina.com.cn/c/sd/2018-01-27/doc-ifyqyesy2625298.shtml\n",
      "1月27日 11:38 儿童邪典片流入中国毒害儿童 邪典文化到底是什么 http://news.sina.com.cn/o/2018-01-27/doc-ifyqyqni3704922.shtml\n",
      "1月26日 07:50 聚焦临终关怀：没有经济收益 医院普遍缺乏动力 http://news.sina.com.cn/c/sd/2018-01-26/doc-ifyqwiqk8352258.shtml\n",
      "1月25日 15:03 山东原副省长季缃琦跌落“银座”:被举报侵吞国资 http://news.sina.com.cn/c/sd/2018-01-25/doc-ifyqyuhy6343274.shtml\n",
      "1月25日 10:10 11省市违规围填海项目或被拆 有地方代企业缴罚款 http://news.sina.com.cn/c/sd/2018-01-25/doc-ifyqyesy1225724.shtml\n",
      "1月25日 07:42 一共几个猴？武汉大学长江学者“造假”纷争背后 http://news.sina.com.cn/c/sd/2018-01-25/doc-ifyqyuhy6201774.shtml\n",
      "1月23日 07:45 儿童邪典视频如何通过网站审核:或因考核压力惹祸 http://news.sina.com.cn/c/sd/2018-01-23/doc-ifyqwiqi5646294.shtml\n",
      "1月23日 03:03 在线教育打开你知识空间:1.44亿用户 1941亿市场 http://news.sina.com.cn/c/2018-01-23/doc-ifyquixe6490193.shtml\n",
      "1月22日 08:20 最穷上市公司未交60元年费 官网域名被人抢注转卖 http://news.sina.com.cn/c/sd/2018-01-22/doc-ifyquptv8499452.shtml\n"
     ]
    }
   ],
   "source": [
    "for news in soup.select('.news-item'):\n",
    "    #print(type(news))\n",
    "    if len(news.select('h2'))>0:\n",
    "        time=news.select('.time')[0].text #获取新闻的发布时间\n",
    "        h2=news.select('h2')[0].text  #获取新闻的标题\n",
    "        a=news.select('a')[0]['href']  #获取新闻的链接\n",
    "        print(time,h2,a)"
   ]
  },
  {
   "cell_type": "markdown",
   "metadata": {},
   "source": [
    "## 四、取得新闻正文的相关内容"
   ]
  },
  {
   "cell_type": "markdown",
   "metadata": {},
   "source": [
    "在新闻正文页中要获取正文标题、正文内容、时间、来源、评论等信息，那么首先还是要用到开发者工具；<br>\n",
    "打开新闻正文页后，用开发者工具检查请求的正文页URL:<br>\n",
    "<img src=\"images/3.jpg\" /><br>\n",
    "然后将查到的新闻正文URL获取正文响应："
   ]
  },
  {
   "cell_type": "code",
   "execution_count": 51,
   "metadata": {},
   "outputs": [],
   "source": [
    "res=requests.get('http://news.sina.com.cn/c/nd/2018-07-13/doc-ihfhfwmu3378104.shtml')\n",
    "#res=requests.get('http://news.sina.com.cn/o/2018-07-14/doc-ihfhfwmv0619958.shtml')\n",
    "res.encoding='utf-8'\n",
    "soup=BeautifulSoup(res.text,'html.parser')\n",
    "#print(soup.text)"
   ]
  },
  {
   "cell_type": "markdown",
   "metadata": {},
   "source": [
    "用开发者工具，检查标题、日期、来源所在标签：<br>\n",
    "<img src=\"images/4.jpg\" />"
   ]
  },
  {
   "cell_type": "code",
   "execution_count": 52,
   "metadata": {},
   "outputs": [
    {
     "name": "stdout",
     "output_type": "stream",
     "text": [
      "北京市长陈吉宁会见美国特斯拉公司董事长马斯克\n"
     ]
    }
   ],
   "source": [
    "print(soup.select('.main-title')[0].text)"
   ]
  },
  {
   "cell_type": "code",
   "execution_count": 53,
   "metadata": {},
   "outputs": [
    {
     "name": "stdout",
     "output_type": "stream",
     "text": [
      "2018年07月13日 06:34\n"
     ]
    }
   ],
   "source": [
    "print(soup.select('.date-source .date')[0].text) #从.data-source指定元素开始，逐级取到.date指定的元素"
   ]
  },
  {
   "cell_type": "code",
   "execution_count": 54,
   "metadata": {},
   "outputs": [
    {
     "name": "stdout",
     "output_type": "stream",
     "text": [
      "新浪新闻综合\n"
     ]
    }
   ],
   "source": [
    "print(soup.select('.date-source a')[0].text) #从.data-source指定元素开始，逐级取到a元素"
   ]
  },
  {
   "cell_type": "markdown",
   "metadata": {},
   "source": [
    "特别说明：因为源视频是2016年所录的，其中各种内容对应的元素标签和位置已发生变化，故获取的方式也发生了变化；所以，要针对不断的变化，代码上也要做出相应的变化；不过，为了全面了解BeautifulSoup4，这里把原来的时间与来源标签情况与获取方式说下：<br>\n",
    "<img src='images/5.jpg' /><br>\n",
    "对于原来的网页为何要这样处理稍做说明：<br>\n",
    "1）取得时间时：因为原来的时间和来源，都在同一个大的span里，而这大的span又嵌套了二层下一级span，所以无法直接原来的方式直接用text属性分别取得时间和来源；但可以用contents属性来分别获取，因其返回的是一个内容列表，故要用[]索引指定内容；而strip()方法是去除文本前后特殊字符，这里是去掉文本末尾\\t\\t两个特殊转义字符<br>\n",
    "2）取得来源时：soup.select中的'.time-source span a'是逐级取元素的意思，即：.time-source所指的元素的子元素span里的子元素a"
   ]
  },
  {
   "cell_type": "markdown",
   "metadata": {},
   "source": [
    "## 五、时间字符串转换"
   ]
  },
  {
   "cell_type": "code",
   "execution_count": 55,
   "metadata": {},
   "outputs": [
    {
     "name": "stdout",
     "output_type": "stream",
     "text": [
      "2018年07月13日 06:34\n",
      "2018-07-13 06:34\n"
     ]
    }
   ],
   "source": [
    "from datetime import datetime\n",
    "dtStr=soup.select('.date-source .date')[0].text\n",
    "print(dtStr)\n",
    "dt=datetime.strptime(dtStr,'%Y年%m月%d日 %H:%M') #将时间形式的字符串转为日期型\n",
    "print(dt.strftime('%Y-%m-%d %H:%M')) #将日期型数据格式化为字符型"
   ]
  },
  {
   "cell_type": "markdown",
   "metadata": {},
   "source": [
    "## 六、新闻正文内容获取<br>\n",
    "与之前同样的方法，用工发者开者检查正文所处标签：\n",
    "<img src=\"images/6.jpg\" />"
   ]
  },
  {
   "cell_type": "code",
   "execution_count": 56,
   "metadata": {},
   "outputs": [
    {
     "name": "stdout",
     "output_type": "stream",
     "text": [
      "原标题：北京市长陈吉宁会见美国特斯拉公司董事长马斯克@来源：北京日报@撰文| 武红利  范俊生@昨天上午，市长陈吉宁会见了美国特斯拉公司董事长兼首席执行官埃隆·马斯克先生一行。@陈吉宁对客人的来访表示欢迎。@他说@北京当前正在精心组织实施新一版城市总体规划，围绕“四个中心”城市战略定位，推进减量发展、创新发展和开放发展。@在新一轮扩大开放的过程中，北京将进一步改革优化营商环境，为国际企业在京发展提供更加优质的服务。@特斯拉在京设立中国区总部和美国之外的第一个研发中心，充分体现了特斯拉对与北京合作的重视。@希望双方今后在新能源汽车科技、城市绿色发展等领域加强合作，我们将全力支持特斯拉在京发展。@马斯克高度评价北京取得的发展成就，表示将逐步扩大北京研发中心的规模，与北京进一步深化合作。@市委常委、副市长阴和俊，市政府秘书长靳伟参加会见。@原创新媒体制作人员：范俊生、武红利\n"
     ]
    }
   ],
   "source": [
    "article=[]\n",
    "#soup.select('#article_content p') #正文文本内容在article_content指定元素的各个p标记里\n",
    "for p in soup.select('#article_content p')[:-5]: #这里索引结束位置为-5的原因是因为后面有一些空段和责任编辑部份是不要的\n",
    "    article.append(p.text.strip()) #将获取的各段落加入article列表，strip()方法用于去除各段文本前后的空格等特殊字符\n",
    "print('@'.join(article)) #把列表中各项连接为一个字符串，连接处用“@”字符分隔"
   ]
  },
  {
   "cell_type": "markdown",
   "metadata": {},
   "source": [
    "### 还有一种方法可以用一行代替前面的for迭代，使代码更简练："
   ]
  },
  {
   "cell_type": "code",
   "execution_count": 57,
   "metadata": {},
   "outputs": [
    {
     "name": "stdout",
     "output_type": "stream",
     "text": [
      "原标题：北京市长陈吉宁会见美国特斯拉公司董事长马斯克@来源：北京日报@撰文| 武红利  范俊生@昨天上午，市长陈吉宁会见了美国特斯拉公司董事长兼首席执行官埃隆·马斯克先生一行。@陈吉宁对客人的来访表示欢迎。@他说@北京当前正在精心组织实施新一版城市总体规划，围绕“四个中心”城市战略定位，推进减量发展、创新发展和开放发展。@在新一轮扩大开放的过程中，北京将进一步改革优化营商环境，为国际企业在京发展提供更加优质的服务。@特斯拉在京设立中国区总部和美国之外的第一个研发中心，充分体现了特斯拉对与北京合作的重视。@希望双方今后在新能源汽车科技、城市绿色发展等领域加强合作，我们将全力支持特斯拉在京发展。@马斯克高度评价北京取得的发展成就，表示将逐步扩大北京研发中心的规模，与北京进一步深化合作。@市委常委、副市长阴和俊，市政府秘书长靳伟参加会见。@原创新媒体制作人员：范俊生、武红利\n"
     ]
    }
   ],
   "source": [
    "#[p.text.strip() for p in soup.select('#article_content p')[:-5]] #返回为列表类型\n",
    "print('@'.join([p.text.strip() for p in soup.select('#article_content p')[:-5]]))#把join方法也合并上去，代码更简练了"
   ]
  },
  {
   "cell_type": "markdown",
   "metadata": {},
   "source": [
    "### 责任编辑的获取<br>\n",
    "<img src=\"images/7.jpg\" />"
   ]
  },
  {
   "cell_type": "code",
   "execution_count": 58,
   "metadata": {},
   "outputs": [
    {
     "name": "stdout",
     "output_type": "stream",
     "text": [
      "霍宇昂\n"
     ]
    }
   ],
   "source": [
    "print(soup.select('.show_author')[0].text.strip().lstrip('责任编辑：')) #lstrip方法，从左边去掉指定的字符，这里'责任编辑：'几字是不要的，只要编辑姓名即可"
   ]
  },
  {
   "cell_type": "markdown",
   "metadata": {},
   "source": [
    "## 七、获取新闻评论参与人数<br>\n",
    "新闻评论数用工发者工具检查后发现，其位于count样式指定的元素的下级元素中，但用下面代码却无法访问到评论参与人数:"
   ]
  },
  {
   "cell_type": "code",
   "execution_count": 59,
   "metadata": {},
   "outputs": [],
   "source": [
    "res=requests.get('http://news.sina.com.cn/o/2018-07-14/doc-ihfhfwmv1378608.shtml')\n",
    "res.encoding='utf-8'\n",
    "soup=BeautifulSoup(res.text,'html.parser')\n",
    "#soup.text"
   ]
  },
  {
   "cell_type": "markdown",
   "metadata": {},
   "source": [
    "新闻评论参与人数用开发者工具检查后发现，其位于count样式指定的元素的下级元素中，但用下面代码却无法访问到评论参与人数:"
   ]
  },
  {
   "cell_type": "code",
   "execution_count": 60,
   "metadata": {},
   "outputs": [
    {
     "data": {
      "text/plain": [
       "[]"
      ]
     },
     "execution_count": 60,
     "metadata": {},
     "output_type": "execute_result"
    }
   ],
   "source": [
    "soup.select('.count')"
   ]
  },
  {
   "cell_type": "markdown",
   "metadata": {},
   "source": [
    "无法访问到的原因是因为：这里的评论参与人数是由js脚本通过ajax http方式获取到的，并不能直接通过页面元素直接获取到；所以要检查js访问并定位到评论数的信息：<br>\n",
    "<img src=\"images/8.jpg\" /><br>\n",
    "检查后发现：在preview视图中，评论参与人数等信息是放在json格式的数据中的；而具体评论用户的信息与评论内容也能在此json数据的cmntlist字段中看到：<br>\n",
    "<img src=\"images/10.jpg\" /><br>\n",
    "接下来为了获取这个json数据，我们首先要获得对应的Request URL,如下：\n",
    "<img src=\"images/9.jpg\" />\n"
   ]
  },
  {
   "cell_type": "markdown",
   "metadata": {},
   "source": [
    "利用查到的请求地址，获取评论相关信息："
   ]
  },
  {
   "cell_type": "code",
   "execution_count": 61,
   "metadata": {},
   "outputs": [
    {
     "name": "stdout",
     "output_type": "stream",
     "text": [
      "jsonp_1531554557168({\"result\": {\"status\": {\"msg\": \"\", \"code\": 0}, \"count\": {\"qreply\": 3451, \"total\": 3846, \"show\": 46}, \"language\": \"ch\", \"encoding\": \"utf-8\", \"cmntlist\": [{\"comment_imgs\": \"\", \"parent_mid\": \"0\", \"news_mid_source\": \"0\", \"rank\": \"1\", \"mid\": \"5B4AF2FB-B7C31EFE-1858D0A64-862-77E\", \"video\": \"\", \"vote\": \"0\", \"uid\": \"6535580260\", \"area\": \"\\u4e0a\\u6d77\", \"channel_source\": \"\", \"content\": \"\\u88ab\\u5404\\u56fd\\u6253\\u51fb\\u548c\\u4e0d\\u4fe1\\u4efb\\uff0c\\u5c06\\u4f1a\\u6c38\\u8fdc\\u5b58\\u5728\\uff1f\\u56e0\\u4e3a\\uff0c\\u4ef7\\u503c\\u89c2\\u4e0d\\u540c\\u2026\", \"nick\": \"\\u5c11\\u6709\\u62d9\\u89c1\", \"hot\": \"0\", \"status_uid\": \"0\", \"content_ext\": \"\", \"ip\": \"183.195.30.254\", \"media_type\": \"0\", \"config\": \"wb_verified=0&wb_screen_name=\\u5c11\\u6709\\u62d9\\u89c1&area=\\u4e0a\\u6d77&wb_profile_img=http%3A%2F%2Fn.sinaimg.cn%2Fdefault%2F2a495a47%2F20180503%2Fdefault_avatar_120_120.png&wb_description=&followers_count=0&wb_user_id=6535580260&wb_verified_type=&wb_time=1531638523632\", \"channel\": \"gn\", \"comment_mid\": \"0\", \"status\": \"M_PASS\", \"openid\": \"\", \"newsid_source\": \"\", \"parent\": \"\", \"status_cmnt_mid\": \"\", \"parent_profile_img\": \"\", \"news_mid\": \"0\", \"parent_nick\": \"\", \"newsid\": \"comos-hfhfwmv1378608\", \"parent_uid\": \"0\", \"thread_mid\": \"0\", \"thread\": \"\", \"level\": \"0\", \"against\": \"1531638509\", \"usertype\": \"palmnews\", \"length\": \"26\", \"profile_img\": \"http://n.sinaimg.cn/default/2a495a47/20180503/default_avatar_120_120.png\", \"time\": \"2018-07-15 15:08:29\", \"login_type\": \"1\", \"audio\": \"\", \"agree\": \"1\"}, {\"comment_imgs\": \"\", \"parent_mid\": \"0\", \"news_mid_source\": \"0\", \"rank\": \"0\", \"mid\": \"5B4A48B7-3240A159-5939810B-862-8D5\", \"video\": \"\", \"vote\": \"0\", \"uid\": \"1496940811\", \"area\": \"\\u52a0\\u62ff\\u5927\\u4e0d\\u5217\\u98a0\\u54e5\\u4f26\\u6bd4\\u4e9a\", \"channel_source\": \"\", \"content\": \"\\u8be5\\u4f01\\u4e1a\\u5e94\\u5145\\u4efd\\u5b66\\u4e60\\u4e60\\u5927\\u5927\\u7684\\uff1a\\u6253\\u94c1\\u8fd8\\u9700\\u81ea\\u8eab\\u786c\\uff0c\\u8bf7\\u5173\\u6ce8\\u63d0\\u5347\\u81ea\\u8eab\\u7684\\u80fd\\u529b\\u3002\", \"nick\": \"\\u4eba\\u5728\\u5929\\u6daf\\u6c34\\u4e91\\u6da7\", \"hot\": \"0\", \"status_uid\": \"0\", \"content_ext\": \"\", \"ip\": \"50.64.161.89\", \"media_type\": \"0\", \"config\": \"wb_verified=0&wb_screen_name=\\u4eba\\u5728\\u5929\\u6daf\\u6c34\\u4e91\\u6da7&area=\\u52a0\\u62ff\\u5927\\u4e0d\\u5217\\u98a0\\u54e5\\u4f26\\u6bd4\\u4e9a&wb_user_id=1496940811&followers_count=62&client_port=0&wb_profile_img=http%3A%2F%2Ftvax1.sinaimg.cn%2Fcrop.13.0.237.237.50%2F5939810bly1fg3dwc9qh4j207906nab3.jpg&wb_time=1531594935\", \"channel\": \"gn\", \"comment_mid\": \"0\", \"status\": \"M_PASS\", \"openid\": \"\", \"newsid_source\": \"\", \"parent\": \"\", \"status_cmnt_mid\": \"\", \"parent_profile_img\": \"\", \"news_mid\": \"0\", \"parent_nick\": \"\", \"newsid\": \"comos-hfhfwmv1378608\", \"parent_uid\": \"0\", \"thread_mid\": \"0\", \"thread\": \"\", \"level\": \"0\", \"against\": \"1531594935\", \"usertype\": \"pc\", \"length\": \"32\", \"profile_img\": \"http://tvax1.sinaimg.cn/crop.13.0.237.237.50/5939810bly1fg3dwc9qh4j207906nab3.jpg\", \"time\": \"2018-07-15 03:02:15\", \"login_type\": \"0\", \"audio\": \"\", \"agree\": \"0\"}, {\"comment_imgs\": \"\", \"parent_mid\": \"0\", \"news_mid_source\": \"0\", \"rank\": \"3\", \"mid\": \"5B4A0CA2-B477EE0D-1507A2C19-862-8AB\", \"video\": \"\", \"vote\": \"0\", \"uid\": \"5645151257\", \"area\": \"\\u6c5f\\u82cf\\u626c\\u5dde\", \"channel_source\": \"\", \"content\": \"\\u6fb3\\u5927\\u5229\\u4e9a\\u5c31\\u662f\\u6761\\u72d7\", \"nick\": \"\\u53f2\\u83b1\\u514b\\u5b66\\u9662\\u6d77\\u795e\\u9601\", \"hot\": \"0\", \"status_uid\": \"0\", \"content_ext\": \"\", \"ip\": \"180.119.238.13\", \"media_type\": \"0\", \"config\": \"wb_verified=0&wb_screen_name=\\u53f2\\u83b1\\u514b\\u5b66\\u9662\\u6d77\\u795e\\u9601&area=\\u6c5f\\u82cf\\u626c\\u5dde&wb_user_id=5645151257&followers_count=9&client_port=0&wb_profile_img=http%3A%2F%2Ftvax2.sinaimg.cn%2Fdefault%2Fimages%2Fdefault_avatar_male_50.gif&wb_time=1531579554\", \"channel\": \"gn\", \"comment_mid\": \"0\", \"status\": \"M_PASS\", \"openid\": \"\", \"newsid_source\": \"\", \"parent\": \"\", \"status_cmnt_mid\": \"\", \"parent_profile_img\": \"\", \"news_mid\": \"0\", \"parent_nick\": \"\", \"newsid\": \"comos-hfhfwmv1378608\", \"parent_uid\": \"0\", \"thread_mid\": \"0\", \"thread\": \"\", \"level\": \"0\", \"against\": \"1531579554\", \"usertype\": \"pc\", \"length\": \"8\", \"profile_img\": \"http://tvax2.sinaimg.cn/default/images/default_avatar_male_50.gif\", \"time\": \"2018-07-14 22:45:54\", \"login_type\": \"0\", \"audio\": \"\", \"agree\": \"3\"}], \"toplist\": [], \"news\": {\"status\": \"N_NORMAL\", \"title\": \"\\u4e2d\\u56fd\\u7535\\u4fe1\\u5de8\\u5934\\u5728\\u7f8e\\u9891\\u5f53\\u201c\\u9776\\u5b50\\u201d\\u540e \\u53c8\\u88ab\\u4e00\\u56fd\\u4e0b\\u72e0\\u624b\", \"default\": \"M_CHECK\", \"show\": \"M_PASS,M_NICE\", \"subnum\": \"0\", \"column\": \"comos-51922\", \"author_name\": \"\", \"author_uid\": \"0\", \"countmode\": \"C_HIDE,C_QREPLY,C_SHOW\", \"base\": \"0\", \"url\": \"http://news.sina.com.cn/o/2018-07-14/doc-ihfhfwmv1378608.shtml\", \"groups\": \"\", \"time\": \"2018-07-14 07:42:23\", \"newsid\": \"comos-hfhfwmv1378608\", \"author_profile_img\": \"\", \"config\": \"import_wb=1&news_type=5&white_list=1&url_wap=http%3A%2F%2Fnews.sina.cn%2F2018-07-14%2Fdetail-ihfhfwmv1378608.d.html&news_type_old=2\", \"news_mid\": \"0\", \"channel\": \"gn\"}, \"grouplist\": [], \"hot_list\": [{\"comment_imgs\": \"\", \"parent_mid\": \"0\", \"news_mid_source\": \"0\", \"rank\": \"38\", \"mid\": \"5B49BFD3-6556F600-155A99CFE-862-85A\", \"video\": \"\", \"vote\": \"0\", \"uid\": \"5732146430\", \"area\": \"\\u4e0a\\u6d77\", \"channel_source\": \"\", \"content\": \"\\u8be5\\u62ff\\u888b\\u9f20\\u7acb\\u5a01\\u4e86\\uff01\", \"nick\": \"\\u9f50\\u62c9\\u4e9a\", \"hot\": \"0\", \"status_uid\": \"0\", \"content_ext\": \"\", \"ip\": \"101.86.246.0\", \"media_type\": \"0\", \"config\": \"wb_verified=0&wb_screen_name=\\u9f50\\u62c9\\u4e9a&area=\\u4e0a\\u6d77&wb_user_id=5732146430&followers_count=18&client_port=0&wb_profile_img=http%3A%2F%2Ftva1.sinaimg.cn%2Fcrop.89.1.333.333.50%2F006fVv8Gjw8f19ltw3uxgj30br0gojtf.jpg&wb_time=1531559891\", \"channel\": \"gn\", \"comment_mid\": \"0\", \"status\": \"M_PASS\", \"openid\": \"\", \"newsid_source\": \"\", \"parent\": \"\", \"status_cmnt_mid\": \"\", \"parent_profile_img\": \"\", \"news_mid\": \"0\", \"parent_nick\": \"\", \"newsid\": \"comos-hfhfwmv1378608\", \"parent_uid\": \"0\", \"thread_mid\": \"0\", \"thread\": \"\", \"level\": \"0\", \"against\": \"1531559877\", \"usertype\": \"pc\", \"length\": \"8\", \"profile_img\": \"http://tva1.sinaimg.cn/crop.89.1.333.333.50/006fVv8Gjw8f19ltw3uxgj30br0gojtf.jpg\", \"time\": \"2018-07-14 17:17:57\", \"login_type\": \"0\", \"audio\": \"\", \"agree\": \"38\"}, {\"comment_imgs\": \"\", \"parent_mid\": \"0\", \"news_mid_source\": \"0\", \"rank\": \"29\", \"mid\": \"5B49D0F9-6F1EE73B-E857F343-862-879\", \"video\": \"\", \"vote\": \"0\", \"uid\": \"3898078019\", \"area\": \"\\u5929\\u6d25\", \"channel_source\": \"\", \"content\": \"\\u6211\\u4eec\\u5e94\\u8be5\\u51fa\\u624b\\u72e0\\u72e0\\u7684\\u6559\\u8bad\\u6fb3\\u6d32\\uff0c\\u6253\\u72d7\\u7ed9\\u4e3b\\u4eba\\u770b\\uff01\", \"nick\": \"\\u611a\\u53df42\", \"hot\": \"0\", \"status_uid\": \"0\", \"content_ext\": \"\", \"ip\": \"111.30.231.59\", \"media_type\": \"0\", \"config\": \"wb_verified=0&wb_screen_name=\\u611a\\u53df42&area=\\u5929\\u6d25&wb_user_id=3898078019&followers_count=13&client_port=0&wb_profile_img=http%3A%2F%2Ftvax4.sinaimg.cn%2Fdefault%2Fimages%2Fdefault_avatar_male_50.gif&wb_time=1531564281\", \"channel\": \"gn\", \"comment_mid\": \"0\", \"status\": \"M_PASS\", \"openid\": \"\", \"newsid_source\": \"\", \"parent\": \"\", \"status_cmnt_mid\": \"\", \"parent_profile_img\": \"\", \"news_mid\": \"0\", \"parent_nick\": \"\", \"newsid\": \"comos-hfhfwmv1378608\", \"parent_uid\": \"0\", \"thread_mid\": \"0\", \"thread\": \"\", \"level\": \"0\", \"against\": \"1531564267\", \"usertype\": \"pc\", \"length\": \"21\", \"profile_img\": \"http://tvax4.sinaimg.cn/default/images/default_avatar_male_50.gif\", \"time\": \"2018-07-14 18:31:07\", \"login_type\": \"0\", \"audio\": \"\", \"agree\": \"29\"}, {\"comment_imgs\": \"\", \"parent_mid\": \"0\", \"news_mid_source\": \"0\", \"rank\": \"28\", \"mid\": \"5B49BD4A-1B4D1C3-53C9E160-862-912\", \"video\": \"\", \"vote\": \"0\", \"uid\": \"1405739360\", \"area\": \"\\u5185\\u8499\\u53e4\\u547c\\u548c\\u6d69\\u7279\", \"channel_source\": \"\", \"content\": \"\\u6fb3\\u5927\\u5229\\u4e9a\\u5bf9\\u534e\\u987a\\u5dee\\uff0c\\u6211\\u4eec\\u7684\\u724c\\u5e94\\u8be5\\u6bd4\\u4ed6\\u4eec\\u591a\\uff0c\\u597d\\u597d\\u73a9\\u6fb3\\u5927\\u5229\\u4e9a\\uff01\", \"nick\": \"\\u65b0\\u65b04pKg_266\", \"hot\": \"0\", \"status_uid\": \"0\", \"content_ext\": \"\", \"ip\": \"1.180.209.195\", \"media_type\": \"0\", \"config\": \"wb_verified=0&wb_screen_name=\\u65b0\\u65b04pKg_266&area=\\u5185\\u8499\\u53e4\\u547c\\u548c\\u6d69\\u7279&wb_user_id=1405739360&followers_count=3&client_port=0&wb_profile_img=http%3A%2F%2Ftvax1.sinaimg.cn%2Fdefault%2Fimages%2Fdefault_avatar_male_50.gif&wb_time=1531559242\", \"channel\": \"gn\", \"comment_mid\": \"0\", \"status\": \"M_PASS\", \"openid\": \"\", \"newsid_source\": \"\", \"parent\": \"\", \"status_cmnt_mid\": \"\", \"parent_profile_img\": \"\", \"news_mid\": \"0\", \"parent_nick\": \"\", \"newsid\": \"comos-hfhfwmv1378608\", \"parent_uid\": \"0\", \"thread_mid\": \"0\", \"thread\": \"\", \"level\": \"0\", \"against\": \"1531559243\", \"usertype\": \"pc\", \"length\": \"28\", \"profile_img\": \"http://tvax1.sinaimg.cn/default/images/default_avatar_male_50.gif\", \"time\": \"2018-07-14 17:07:23\", \"login_type\": \"0\", \"audio\": \"\", \"agree\": \"28\"}], \"threaddict\": {}}})\n"
     ]
    }
   ],
   "source": [
    "comments=requests.get('http://comment5.news.sina.com.cn/page/info?version=1&format=json&\\\n",
    "channel=gn&newsid=comos-hfhfwmv1378608&group=undefined&compress=0&ie=utf-8&oe=utf-8&\\\n",
    "page=1&page_size=3&t_size=3&h_size=3&thread=1&callback=jsonp_1531554557168&_=1531554557168')\n",
    "print(comments.text)"
   ]
  },
  {
   "cell_type": "markdown",
   "metadata": {},
   "source": [
    "获取到了请求的响应后，就可以对json数据解析来获得评论参与人数了："
   ]
  },
  {
   "cell_type": "code",
   "execution_count": 62,
   "metadata": {},
   "outputs": [
    {
     "name": "stdout",
     "output_type": "stream",
     "text": [
      "3846\n"
     ]
    }
   ],
   "source": [
    "import json\n",
    "jsonStr=comments.text\n",
    "jsonStr=jsonStr[jsonStr.find('(') + 1:-1]  #截取到有效json字串，从开头到一个左括号后及最后一个右括号前的部份是要的\n",
    "         \n",
    "jd = json.loads(jsonStr)  #将jsonStr解析出来，并存入jd变量，jd变量为字典型\n",
    "#print(type(jd))\n",
    "#print(jd)\n",
    "print(jd['result']['count']['total'])  #按照数据的结构层级，取得评论参与总人数"
   ]
  },
  {
   "cell_type": "markdown",
   "metadata": {},
   "source": [
    "说明一下：这里实际打印出来的人数比前面截图时的人数多了点，那是因为截图时和现在运行代码的时间不一样了，评论参与人数现在已经比刚才截图时多了；"
   ]
  },
  {
   "cell_type": "markdown",
   "metadata": {},
   "source": [
    "## 八、获取新闻的编号<br>\n",
    "可以使用开发者工具查到新闻的请求链接，而每条新闻的编号就包含在Request url中；比如：<br>http://news.sina.com.cn/o/2018-07-12/doc-ihfefkqr0818002.shtml<br>\n",
    "而链接里最后一部份中“doc-i”后面的“hfefkqr0818002”就是此链接指向新闻的编号;<br>\n",
    "有二种方法可以取得这个编号：1）使用split方法和strip方法；2）使用正则表达式<br>\n",
    "下面分别介绍这两种方法："
   ]
  },
  {
   "cell_type": "markdown",
   "metadata": {},
   "source": [
    "### 1、使用split方法和strip方法"
   ]
  },
  {
   "cell_type": "code",
   "execution_count": 63,
   "metadata": {},
   "outputs": [
    {
     "name": "stdout",
     "output_type": "stream",
     "text": [
      "hfefkqr0818002\n"
     ]
    }
   ],
   "source": [
    "newsUrl='http://news.sina.com.cn/o/2018-07-12/doc-ihfefkqr0818002.shtml'\n",
    "newsid=newsUrl.split('/')[-1].rstrip('.shtml').lstrip('doc-i')\n",
    "print(newsid)"
   ]
  },
  {
   "cell_type": "markdown",
   "metadata": {},
   "source": [
    "说明：newsUrl.split('/')[-1].rstrip('.shtml').lstrip('doc-i')这句代码意思是：\n",
    "<br>1)用split方法分割newsUrl字符串，分割标志为/字符\n",
    "<br>2)[-1]为取分割后的最后一部份\n",
    "<br>3)用rstrip方法去除右侧的.shtml字串、用lstrip方法去除左侧的doc-i字串"
   ]
  },
  {
   "cell_type": "markdown",
   "metadata": {},
   "source": [
    "### 2、使用正则表达式"
   ]
  },
  {
   "cell_type": "code",
   "execution_count": 64,
   "metadata": {},
   "outputs": [
    {
     "name": "stdout",
     "output_type": "stream",
     "text": [
      "hfefkqr0818002\n"
     ]
    }
   ],
   "source": [
    "import re #导入正则表达式包\n",
    "m=re.search('doc-i(.*).shtml',newsUrl)\n",
    "print(m.group(1))"
   ]
  },
  {
   "cell_type": "markdown",
   "metadata": {},
   "source": [
    "说明：<br>\n",
    "1）re.search('doc-i(.*).shtml',newsUrl)：search方法中，第一个参数是正则表达式，其规定了查找/匹配的规则;第二个参数指明在哪个字符串中查找/匹配<br>\n",
    "2）print(m.group(1))：group方法指明正则表达式中的分组（即正则表达式中小括号括起来的部份，可以有多个分组，分组编号从1开始）<br>\n",
    "<a href=\"https://www.cnblogs.com/renfanzi/p/5635818.html#_label0\">一个比较简单的python正则表达式入门教程</a>"
   ]
  },
  {
   "cell_type": "code",
   "execution_count": null,
   "metadata": {},
   "outputs": [],
   "source": []
  }
 ],
 "metadata": {
  "kernelspec": {
   "display_name": "Python 3",
   "language": "python",
   "name": "python3"
  },
  "language_info": {
   "codemirror_mode": {
    "name": "ipython",
    "version": 3
   },
   "file_extension": ".py",
   "mimetype": "text/x-python",
   "name": "python",
   "nbconvert_exporter": "python",
   "pygments_lexer": "ipython3",
   "version": "3.5.4"
  }
 },
 "nbformat": 4,
 "nbformat_minor": 2
}
