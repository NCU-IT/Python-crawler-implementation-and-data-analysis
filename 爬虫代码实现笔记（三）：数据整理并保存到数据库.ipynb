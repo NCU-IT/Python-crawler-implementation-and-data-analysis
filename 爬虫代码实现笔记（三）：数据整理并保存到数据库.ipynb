{
 "cells": [
  {
   "cell_type": "markdown",
   "metadata": {},
   "source": [
    "# 爬虫代码实现笔记（三）：数据整理并保存到数据库"
   ]
  },
  {
   "cell_type": "markdown",
   "metadata": {},
   "source": [
    "为了能够方便地调用笔记二中定义的那些网络爬虫函数，我已将它们整理为一个python函数库：MyReptileTool.py;我们一旦需要用到这些函数，直接导入这库就行了："
   ]
  },
  {
   "cell_type": "code",
   "execution_count": 1,
   "metadata": {},
   "outputs": [],
   "source": [
    "import MyReptileTool as mr"
   ]
  },
  {
   "cell_type": "markdown",
   "metadata": {},
   "source": [
    "用上次笔记中循环迭代的方法，爬取新浪国内新闻版块的新闻："
   ]
  },
  {
   "cell_type": "code",
   "execution_count": 2,
   "metadata": {},
   "outputs": [
    {
     "name": "stdout",
     "output_type": "stream",
     "text": [
      "44\n"
     ]
    }
   ],
   "source": [
    "#将下行url字符中的page参数值设为{},使之成为一个格式字符串\n",
    "url='http://api.roll.news.sina.com.cn/zt_list?channel=news&cat_1=gnxw&cat_2==gdxw1||=gatxw||=zs-pl||=mtjj&level==1||=2&show_ext=1&show_all=1&show_num=22&tag=1&format=json&page={}&callback=newsloadercallback&_=1531630214332'\n",
    "news_total=[] #用于保存所有列表页上抓取的新闻正文信息\n",
    "for i in range(1,3): #抓取的列表页为2页，可自己更改页数范围\n",
    "    newsurl=url.format(i) #用i值代入格式字符串中的{}位置\n",
    "    newsary=mr.parseListLinks(newsurl) #抓取指定列表页上的新闻放入newsary这个列表型变量\n",
    "    news_total.extend(newsary) #将newsary列表并入news_total列表，这样news_total列表中保存了所有列表页上的新闻正文信息了\n",
    "print(len(news_total))"
   ]
  },
  {
   "cell_type": "markdown",
   "metadata": {},
   "source": [
    "爬取新闻后，抓取到的新闻信息已经存入到news_total这个列表型变量中了；接下来将news_total用pandas整理出来，并保存到数据库："
   ]
  },
  {
   "cell_type": "markdown",
   "metadata": {},
   "source": [
    "## 使用pandas整理数据\n",
    "<br>pandas可以用二维表格（Data Frame）的形式来保存和处理数据，能极大地方便数据处理；<br>\n",
    "pandas库如果没有的话，就用pip install pandas安装一下；如果使用的是anaconda的话，就已经内置了："
   ]
  },
  {
   "cell_type": "code",
   "execution_count": 3,
   "metadata": {},
   "outputs": [],
   "source": [
    "import pandas"
   ]
  },
  {
   "cell_type": "code",
   "execution_count": 4,
   "metadata": {},
   "outputs": [
    {
     "data": {
      "text/html": [
       "<div>\n",
       "<style scoped>\n",
       "    .dataframe tbody tr th:only-of-type {\n",
       "        vertical-align: middle;\n",
       "    }\n",
       "\n",
       "    .dataframe tbody tr th {\n",
       "        vertical-align: top;\n",
       "    }\n",
       "\n",
       "    .dataframe thead th {\n",
       "        text-align: right;\n",
       "    }\n",
       "</style>\n",
       "<table border=\"1\" class=\"dataframe\">\n",
       "  <thead>\n",
       "    <tr style=\"text-align: right;\">\n",
       "      <th></th>\n",
       "      <th>article</th>\n",
       "      <th>comments</th>\n",
       "      <th>dt</th>\n",
       "      <th>editor</th>\n",
       "      <th>newssource</th>\n",
       "      <th>title</th>\n",
       "    </tr>\n",
       "  </thead>\n",
       "  <tbody>\n",
       "    <tr>\n",
       "      <th>0</th>\n",
       "      <td>原标题：制度优势：迎击贸易战的关键底气（望海楼） 10天前，美国挑起了对华贸易战，中国被迫应...</td>\n",
       "      <td>15</td>\n",
       "      <td>2018-07-16 05:41:00</td>\n",
       "      <td>霍宇昂</td>\n",
       "      <td>人民日报海外版</td>\n",
       "      <td>人民日报望海楼:制度优势是迎击贸易战的关键底气</td>\n",
       "    </tr>\n",
       "    <tr>\n",
       "      <th>1</th>\n",
       "      <td>原标题：中方被迫采取反制行动完全正当合理合法 商务部在声明中说，中方坚持不打第一枪，但在美方...</td>\n",
       "      <td>0</td>\n",
       "      <td>2018-07-16 04:18:00</td>\n",
       "      <td>霍宇昂</td>\n",
       "      <td>人民日报</td>\n",
       "      <td>人民日报:中方被迫采取反制行动完全正当合理合法</td>\n",
       "    </tr>\n",
       "    <tr>\n",
       "      <th>2</th>\n",
       "      <td>原标题：泥石流致川藏公路318国道西藏仁布段交通中断 中新网拉萨7月16日电 （何蓬磊 赵延...</td>\n",
       "      <td>0</td>\n",
       "      <td>2018-07-16 01:16:00</td>\n",
       "      <td>霍宇昂</td>\n",
       "      <td>中国新闻网</td>\n",
       "      <td>泥石流致川藏公路318国道西藏仁布段交通中断(图)</td>\n",
       "    </tr>\n",
       "    <tr>\n",
       "      <th>3</th>\n",
       "      <td>据泰国《世界日报》报道，泰南酒店业协会会长功萨14日透露，受到船难事件影响，泰南酒店业协会1...</td>\n",
       "      <td>1135</td>\n",
       "      <td>2018-07-16 01:11:00</td>\n",
       "      <td>霍宇昂</td>\n",
       "      <td>环球时报</td>\n",
       "      <td>中国游客取消7300间在7月8月普吉酒店预订房间</td>\n",
       "    </tr>\n",
       "    <tr>\n",
       "      <th>4</th>\n",
       "      <td>7月16日凌晨，法国队成功夺得2018年俄罗斯世界杯冠军！正如华帝之前承诺：法国队夺冠，华帝...</td>\n",
       "      <td>174</td>\n",
       "      <td>2018-07-16 01:13:00</td>\n",
       "      <td>霍宇昂</td>\n",
       "      <td>第一财经</td>\n",
       "      <td>法国队夺冠 华帝 “退全款” 正式启动</td>\n",
       "    </tr>\n",
       "    <tr>\n",
       "      <th>5</th>\n",
       "      <td>原标题：台军政战宣传部门发文：要认清“共军”还是敌人 近日，有台湾深绿媒体报道，台“国防部政...</td>\n",
       "      <td>76</td>\n",
       "      <td>2018-07-15 23:32:00</td>\n",
       "      <td>霍宇昂</td>\n",
       "      <td>环球时报</td>\n",
       "      <td>台军政战宣传部门发文：要认清“共军”还是敌人</td>\n",
       "    </tr>\n",
       "  </tbody>\n",
       "</table>\n",
       "</div>"
      ],
      "text/plain": [
       "                                             article  comments  \\\n",
       "0  原标题：制度优势：迎击贸易战的关键底气（望海楼） 10天前，美国挑起了对华贸易战，中国被迫应...        15   \n",
       "1  原标题：中方被迫采取反制行动完全正当合理合法 商务部在声明中说，中方坚持不打第一枪，但在美方...         0   \n",
       "2  原标题：泥石流致川藏公路318国道西藏仁布段交通中断 中新网拉萨7月16日电 （何蓬磊 赵延...         0   \n",
       "3  据泰国《世界日报》报道，泰南酒店业协会会长功萨14日透露，受到船难事件影响，泰南酒店业协会1...      1135   \n",
       "4  7月16日凌晨，法国队成功夺得2018年俄罗斯世界杯冠军！正如华帝之前承诺：法国队夺冠，华帝...       174   \n",
       "5  原标题：台军政战宣传部门发文：要认清“共军”还是敌人 近日，有台湾深绿媒体报道，台“国防部政...        76   \n",
       "\n",
       "                   dt editor newssource                      title  \n",
       "0 2018-07-16 05:41:00    霍宇昂    人民日报海外版    人民日报望海楼:制度优势是迎击贸易战的关键底气  \n",
       "1 2018-07-16 04:18:00    霍宇昂       人民日报    人民日报:中方被迫采取反制行动完全正当合理合法  \n",
       "2 2018-07-16 01:16:00    霍宇昂      中国新闻网  泥石流致川藏公路318国道西藏仁布段交通中断(图)  \n",
       "3 2018-07-16 01:11:00    霍宇昂       环球时报   中国游客取消7300间在7月8月普吉酒店预订房间  \n",
       "4 2018-07-16 01:13:00    霍宇昂       第一财经        法国队夺冠 华帝 “退全款” 正式启动  \n",
       "5 2018-07-15 23:32:00    霍宇昂       环球时报     台军政战宣传部门发文：要认清“共军”还是敌人  "
      ]
     },
     "execution_count": 4,
     "metadata": {},
     "output_type": "execute_result"
    }
   ],
   "source": [
    "df=pandas.DataFrame(news_total)  #用news_total建立一个Data Frame对象\n",
    "#print(df)\n",
    "#df  jupyter notebook对pandas支持进行了优化，可直接以表格方式显式dataframe数据\n",
    "df.head(6) #head方法可指定显示的行数，这里指定了6行；"
   ]
  },
  {
   "cell_type": "markdown",
   "metadata": {},
   "source": [
    "## 将数据保存至数据库中"
   ]
  },
  {
   "cell_type": "markdown",
   "metadata": {},
   "source": [
    "### 将数据保存至Excel中："
   ]
  },
  {
   "cell_type": "code",
   "execution_count": 5,
   "metadata": {},
   "outputs": [],
   "source": [
    "df.to_excel('news.xlsx') #数据保存至excel"
   ]
  },
  {
   "cell_type": "markdown",
   "metadata": {},
   "source": [
    "提示：在jupyter中按tab键可以提示，比如这里输出df.to_后，按tab键后就可以看到有哪些输出格式；"
   ]
  },
  {
   "cell_type": "markdown",
   "metadata": {},
   "source": [
    "在代码所在目录中，打开news.xlsx：<br>\n",
    "<img src='images/12.jpg' /><br>\n",
    "说明已成功保存为excel文档。"
   ]
  },
  {
   "cell_type": "markdown",
   "metadata": {},
   "source": [
    "### 将数据保存在数据库sqlite\n",
    "<br>sqllite是一款轻量级数据库，无须像mysql,orcale那样需要服务器安装和运行端口,可以轻量化实现sql操作; "
   ]
  },
  {
   "cell_type": "code",
   "execution_count": 6,
   "metadata": {},
   "outputs": [],
   "source": [
    "import sqlite3"
   ]
  },
  {
   "cell_type": "markdown",
   "metadata": {},
   "source": [
    "下面代码是用来保存数据至sqlite数据库，库名为news.sqlite;注意，当news.sqlite已经存在时，connect方法会连接上访库，若不存在，则connect方法会根据库名来新建数据库；"
   ]
  },
  {
   "cell_type": "code",
   "execution_count": 7,
   "metadata": {},
   "outputs": [],
   "source": [
    "with sqlite3.connect('news.sqlite') as db:\n",
    "    df.to_sql('news',con=db)  #con参数为连接名"
   ]
  },
  {
   "cell_type": "markdown",
   "metadata": {},
   "source": [
    "数据保存在sqlite中后，便可以用sql对数据库进行增、删、改、查了，下面演示对数据库进行查询，并将结果置入pandas的DataFrame类型变量中："
   ]
  },
  {
   "cell_type": "code",
   "execution_count": 9,
   "metadata": {},
   "outputs": [],
   "source": [
    "with sqlite3.connect('news.sqlite') as db:\n",
    "    df2=pandas.read_sql_query('select * from news',con=db)  #使用sql语句对news进行查询读取，并将结果放入df2中；"
   ]
  },
  {
   "cell_type": "code",
   "execution_count": 11,
   "metadata": {},
   "outputs": [
    {
     "data": {
      "text/html": [
       "<div>\n",
       "<style scoped>\n",
       "    .dataframe tbody tr th:only-of-type {\n",
       "        vertical-align: middle;\n",
       "    }\n",
       "\n",
       "    .dataframe tbody tr th {\n",
       "        vertical-align: top;\n",
       "    }\n",
       "\n",
       "    .dataframe thead th {\n",
       "        text-align: right;\n",
       "    }\n",
       "</style>\n",
       "<table border=\"1\" class=\"dataframe\">\n",
       "  <thead>\n",
       "    <tr style=\"text-align: right;\">\n",
       "      <th></th>\n",
       "      <th>index</th>\n",
       "      <th>article</th>\n",
       "      <th>comments</th>\n",
       "      <th>dt</th>\n",
       "      <th>editor</th>\n",
       "      <th>newssource</th>\n",
       "      <th>title</th>\n",
       "    </tr>\n",
       "  </thead>\n",
       "  <tbody>\n",
       "    <tr>\n",
       "      <th>0</th>\n",
       "      <td>0</td>\n",
       "      <td>原标题：制度优势：迎击贸易战的关键底气（望海楼） 10天前，美国挑起了对华贸易战，中国被迫应...</td>\n",
       "      <td>15</td>\n",
       "      <td>2018-07-16 05:41:00</td>\n",
       "      <td>霍宇昂</td>\n",
       "      <td>人民日报海外版</td>\n",
       "      <td>人民日报望海楼:制度优势是迎击贸易战的关键底气</td>\n",
       "    </tr>\n",
       "    <tr>\n",
       "      <th>1</th>\n",
       "      <td>1</td>\n",
       "      <td>原标题：中方被迫采取反制行动完全正当合理合法 商务部在声明中说，中方坚持不打第一枪，但在美方...</td>\n",
       "      <td>0</td>\n",
       "      <td>2018-07-16 04:18:00</td>\n",
       "      <td>霍宇昂</td>\n",
       "      <td>人民日报</td>\n",
       "      <td>人民日报:中方被迫采取反制行动完全正当合理合法</td>\n",
       "    </tr>\n",
       "    <tr>\n",
       "      <th>2</th>\n",
       "      <td>2</td>\n",
       "      <td>原标题：泥石流致川藏公路318国道西藏仁布段交通中断 中新网拉萨7月16日电 （何蓬磊 赵延...</td>\n",
       "      <td>0</td>\n",
       "      <td>2018-07-16 01:16:00</td>\n",
       "      <td>霍宇昂</td>\n",
       "      <td>中国新闻网</td>\n",
       "      <td>泥石流致川藏公路318国道西藏仁布段交通中断(图)</td>\n",
       "    </tr>\n",
       "    <tr>\n",
       "      <th>3</th>\n",
       "      <td>3</td>\n",
       "      <td>据泰国《世界日报》报道，泰南酒店业协会会长功萨14日透露，受到船难事件影响，泰南酒店业协会1...</td>\n",
       "      <td>1135</td>\n",
       "      <td>2018-07-16 01:11:00</td>\n",
       "      <td>霍宇昂</td>\n",
       "      <td>环球时报</td>\n",
       "      <td>中国游客取消7300间在7月8月普吉酒店预订房间</td>\n",
       "    </tr>\n",
       "    <tr>\n",
       "      <th>4</th>\n",
       "      <td>4</td>\n",
       "      <td>7月16日凌晨，法国队成功夺得2018年俄罗斯世界杯冠军！正如华帝之前承诺：法国队夺冠，华帝...</td>\n",
       "      <td>174</td>\n",
       "      <td>2018-07-16 01:13:00</td>\n",
       "      <td>霍宇昂</td>\n",
       "      <td>第一财经</td>\n",
       "      <td>法国队夺冠 华帝 “退全款” 正式启动</td>\n",
       "    </tr>\n",
       "    <tr>\n",
       "      <th>5</th>\n",
       "      <td>5</td>\n",
       "      <td>原标题：台军政战宣传部门发文：要认清“共军”还是敌人 近日，有台湾深绿媒体报道，台“国防部政...</td>\n",
       "      <td>76</td>\n",
       "      <td>2018-07-15 23:32:00</td>\n",
       "      <td>霍宇昂</td>\n",
       "      <td>环球时报</td>\n",
       "      <td>台军政战宣传部门发文：要认清“共军”还是敌人</td>\n",
       "    </tr>\n",
       "  </tbody>\n",
       "</table>\n",
       "</div>"
      ],
      "text/plain": [
       "   index                                            article  comments  \\\n",
       "0      0  原标题：制度优势：迎击贸易战的关键底气（望海楼） 10天前，美国挑起了对华贸易战，中国被迫应...        15   \n",
       "1      1  原标题：中方被迫采取反制行动完全正当合理合法 商务部在声明中说，中方坚持不打第一枪，但在美方...         0   \n",
       "2      2  原标题：泥石流致川藏公路318国道西藏仁布段交通中断 中新网拉萨7月16日电 （何蓬磊 赵延...         0   \n",
       "3      3  据泰国《世界日报》报道，泰南酒店业协会会长功萨14日透露，受到船难事件影响，泰南酒店业协会1...      1135   \n",
       "4      4  7月16日凌晨，法国队成功夺得2018年俄罗斯世界杯冠军！正如华帝之前承诺：法国队夺冠，华帝...       174   \n",
       "5      5  原标题：台军政战宣传部门发文：要认清“共军”还是敌人 近日，有台湾深绿媒体报道，台“国防部政...        76   \n",
       "\n",
       "                    dt editor newssource                      title  \n",
       "0  2018-07-16 05:41:00    霍宇昂    人民日报海外版    人民日报望海楼:制度优势是迎击贸易战的关键底气  \n",
       "1  2018-07-16 04:18:00    霍宇昂       人民日报    人民日报:中方被迫采取反制行动完全正当合理合法  \n",
       "2  2018-07-16 01:16:00    霍宇昂      中国新闻网  泥石流致川藏公路318国道西藏仁布段交通中断(图)  \n",
       "3  2018-07-16 01:11:00    霍宇昂       环球时报   中国游客取消7300间在7月8月普吉酒店预订房间  \n",
       "4  2018-07-16 01:13:00    霍宇昂       第一财经        法国队夺冠 华帝 “退全款” 正式启动  \n",
       "5  2018-07-15 23:32:00    霍宇昂       环球时报     台军政战宣传部门发文：要认清“共军”还是敌人  "
      ]
     },
     "execution_count": 11,
     "metadata": {},
     "output_type": "execute_result"
    }
   ],
   "source": [
    "df2.head(6)"
   ]
  },
  {
   "cell_type": "code",
   "execution_count": null,
   "metadata": {},
   "outputs": [],
   "source": []
  }
 ],
 "metadata": {
  "kernelspec": {
   "display_name": "Python 3",
   "language": "python",
   "name": "python3"
  },
  "language_info": {
   "codemirror_mode": {
    "name": "ipython",
    "version": 3
   },
   "file_extension": ".py",
   "mimetype": "text/x-python",
   "name": "python",
   "nbconvert_exporter": "python",
   "pygments_lexer": "ipython3",
   "version": "3.6.6"
  }
 },
 "nbformat": 4,
 "nbformat_minor": 2
}
